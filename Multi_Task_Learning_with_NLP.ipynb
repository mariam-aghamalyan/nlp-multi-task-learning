{
 "cells": [
  {
   "cell_type": "code",
   "execution_count": 88,
   "id": "ce3c34ac-602e-4a69-ac6e-9a1211d66a09",
   "metadata": {},
   "outputs": [],
   "source": [
    "import pandas as pd\n",
    "import numpy as np\n",
    "from sklearn.preprocessing import LabelEncoder\n",
    "import nltk\n",
    "from nltk.corpus import stopwords\n",
    "from tensorflow import keras\n",
    "from tensorflow.keras.preprocessing.text import Tokenizer\n",
    "from tensorflow.keras.preprocessing.sequence import pad_sequences\n",
    "import seaborn as sns\n",
    "from sklearn.metrics import confusion_matrix\n",
    "import matplotlib.pyplot as plt\n",
    "\n",
    "# import warnings\n",
    "# warnings.filterwarnings('ignore')"
   ]
  },
  {
   "cell_type": "markdown",
   "id": "e53a84c5-3e14-40f2-b479-2ba34c4d461a",
   "metadata": {},
   "source": [
    "## Loading the Data"
   ]
  },
  {
   "cell_type": "code",
   "execution_count": 2,
   "id": "8ba3c29b-9322-42d2-996d-41f82b98253d",
   "metadata": {},
   "outputs": [],
   "source": [
    "emotion_df = pd.read_csv('content/emotions.csv')"
   ]
  },
  {
   "cell_type": "code",
   "execution_count": 3,
   "id": "95f8fc18-d1ef-4d8c-9855-1b591c4bf8b3",
   "metadata": {},
   "outputs": [
    {
     "data": {
      "text/html": [
       "<div>\n",
       "<style scoped>\n",
       "    .dataframe tbody tr th:only-of-type {\n",
       "        vertical-align: middle;\n",
       "    }\n",
       "\n",
       "    .dataframe tbody tr th {\n",
       "        vertical-align: top;\n",
       "    }\n",
       "\n",
       "    .dataframe thead th {\n",
       "        text-align: right;\n",
       "    }\n",
       "</style>\n",
       "<table border=\"1\" class=\"dataframe\">\n",
       "  <thead>\n",
       "    <tr style=\"text-align: right;\">\n",
       "      <th></th>\n",
       "      <th>Unnamed: 0</th>\n",
       "      <th>text</th>\n",
       "      <th>label</th>\n",
       "    </tr>\n",
       "  </thead>\n",
       "  <tbody>\n",
       "    <tr>\n",
       "      <th>0</th>\n",
       "      <td>0</td>\n",
       "      <td>i just feel really helpless and heavy hearted</td>\n",
       "      <td>4</td>\n",
       "    </tr>\n",
       "    <tr>\n",
       "      <th>1</th>\n",
       "      <td>1</td>\n",
       "      <td>ive enjoyed being able to slouch about relax a...</td>\n",
       "      <td>0</td>\n",
       "    </tr>\n",
       "    <tr>\n",
       "      <th>2</th>\n",
       "      <td>2</td>\n",
       "      <td>i gave up my internship with the dmrg and am f...</td>\n",
       "      <td>4</td>\n",
       "    </tr>\n",
       "    <tr>\n",
       "      <th>3</th>\n",
       "      <td>3</td>\n",
       "      <td>i dont know i feel so lost</td>\n",
       "      <td>0</td>\n",
       "    </tr>\n",
       "    <tr>\n",
       "      <th>4</th>\n",
       "      <td>4</td>\n",
       "      <td>i am a kindergarten teacher and i am thoroughl...</td>\n",
       "      <td>4</td>\n",
       "    </tr>\n",
       "  </tbody>\n",
       "</table>\n",
       "</div>"
      ],
      "text/plain": [
       "   Unnamed: 0                                               text  label\n",
       "0           0      i just feel really helpless and heavy hearted      4\n",
       "1           1  ive enjoyed being able to slouch about relax a...      0\n",
       "2           2  i gave up my internship with the dmrg and am f...      4\n",
       "3           3                         i dont know i feel so lost      0\n",
       "4           4  i am a kindergarten teacher and i am thoroughl...      4"
      ]
     },
     "execution_count": 3,
     "metadata": {},
     "output_type": "execute_result"
    }
   ],
   "source": [
    "emotion_df.head()"
   ]
  },
  {
   "cell_type": "code",
   "execution_count": 4,
   "id": "5d47ff55-a080-43b1-a247-9a64a0313fdb",
   "metadata": {},
   "outputs": [],
   "source": [
    "violence_df = pd.read_csv('content/violence.csv')"
   ]
  },
  {
   "cell_type": "code",
   "execution_count": 5,
   "id": "e633ac1c-17e8-4843-81f8-6d731496d503",
   "metadata": {
    "scrolled": true
   },
   "outputs": [
    {
     "data": {
      "text/html": [
       "<div>\n",
       "<style scoped>\n",
       "    .dataframe tbody tr th:only-of-type {\n",
       "        vertical-align: middle;\n",
       "    }\n",
       "\n",
       "    .dataframe tbody tr th {\n",
       "        vertical-align: top;\n",
       "    }\n",
       "\n",
       "    .dataframe thead th {\n",
       "        text-align: right;\n",
       "    }\n",
       "</style>\n",
       "<table border=\"1\" class=\"dataframe\">\n",
       "  <thead>\n",
       "    <tr style=\"text-align: right;\">\n",
       "      <th></th>\n",
       "      <th>Tweet_ID</th>\n",
       "      <th>tweet</th>\n",
       "      <th>type</th>\n",
       "    </tr>\n",
       "  </thead>\n",
       "  <tbody>\n",
       "    <tr>\n",
       "      <th>0</th>\n",
       "      <td>ID_0022DWKP</td>\n",
       "      <td>Had a dream i got raped last night. By a guy i...</td>\n",
       "      <td>sexual_violence</td>\n",
       "    </tr>\n",
       "    <tr>\n",
       "      <th>1</th>\n",
       "      <td>ID_00395QYM</td>\n",
       "      <td>he thought the word raped means sex and told m...</td>\n",
       "      <td>sexual_violence</td>\n",
       "    </tr>\n",
       "    <tr>\n",
       "      <th>2</th>\n",
       "      <td>ID_003EOSSF</td>\n",
       "      <td>She NOT TALKING TO ME I WAS RAPED BY 2 MEN 1 M...</td>\n",
       "      <td>sexual_violence</td>\n",
       "    </tr>\n",
       "    <tr>\n",
       "      <th>3</th>\n",
       "      <td>ID_004BBHOD</td>\n",
       "      <td>I was sexually abused for 3 years at age 4 to ...</td>\n",
       "      <td>sexual_violence</td>\n",
       "    </tr>\n",
       "    <tr>\n",
       "      <th>4</th>\n",
       "      <td>ID_004F7516</td>\n",
       "      <td>Chessy Prout can do better by telling the trut...</td>\n",
       "      <td>sexual_violence</td>\n",
       "    </tr>\n",
       "  </tbody>\n",
       "</table>\n",
       "</div>"
      ],
      "text/plain": [
       "      Tweet_ID                                              tweet  \\\n",
       "0  ID_0022DWKP  Had a dream i got raped last night. By a guy i...   \n",
       "1  ID_00395QYM  he thought the word raped means sex and told m...   \n",
       "2  ID_003EOSSF  She NOT TALKING TO ME I WAS RAPED BY 2 MEN 1 M...   \n",
       "3  ID_004BBHOD  I was sexually abused for 3 years at age 4 to ...   \n",
       "4  ID_004F7516  Chessy Prout can do better by telling the trut...   \n",
       "\n",
       "              type  \n",
       "0  sexual_violence  \n",
       "1  sexual_violence  \n",
       "2  sexual_violence  \n",
       "3  sexual_violence  \n",
       "4  sexual_violence  "
      ]
     },
     "execution_count": 5,
     "metadata": {},
     "output_type": "execute_result"
    }
   ],
   "source": [
    "violence_df.head()"
   ]
  },
  {
   "cell_type": "code",
   "execution_count": 6,
   "id": "b848888e-4518-431e-9f68-28eed10ec6b2",
   "metadata": {},
   "outputs": [],
   "source": [
    "hate_df = pd.read_csv('content/hatespeech.csv')"
   ]
  },
  {
   "cell_type": "code",
   "execution_count": 7,
   "id": "4c845f93-802b-49dc-8d2c-fe5c7073937d",
   "metadata": {},
   "outputs": [
    {
     "data": {
      "text/html": [
       "<div>\n",
       "<style scoped>\n",
       "    .dataframe tbody tr th:only-of-type {\n",
       "        vertical-align: middle;\n",
       "    }\n",
       "\n",
       "    .dataframe tbody tr th {\n",
       "        vertical-align: top;\n",
       "    }\n",
       "\n",
       "    .dataframe thead th {\n",
       "        text-align: right;\n",
       "    }\n",
       "</style>\n",
       "<table border=\"1\" class=\"dataframe\">\n",
       "  <thead>\n",
       "    <tr style=\"text-align: right;\">\n",
       "      <th></th>\n",
       "      <th>Unnamed: 0</th>\n",
       "      <th>count</th>\n",
       "      <th>hate_speech</th>\n",
       "      <th>offensive_language</th>\n",
       "      <th>neither</th>\n",
       "      <th>class</th>\n",
       "      <th>tweet</th>\n",
       "    </tr>\n",
       "  </thead>\n",
       "  <tbody>\n",
       "    <tr>\n",
       "      <th>0</th>\n",
       "      <td>0</td>\n",
       "      <td>3</td>\n",
       "      <td>0</td>\n",
       "      <td>0</td>\n",
       "      <td>3</td>\n",
       "      <td>2</td>\n",
       "      <td>!!! RT @mayasolovely: As a woman you shouldn't...</td>\n",
       "    </tr>\n",
       "    <tr>\n",
       "      <th>1</th>\n",
       "      <td>1</td>\n",
       "      <td>3</td>\n",
       "      <td>0</td>\n",
       "      <td>3</td>\n",
       "      <td>0</td>\n",
       "      <td>1</td>\n",
       "      <td>!!!!! RT @mleew17: boy dats cold...tyga dwn ba...</td>\n",
       "    </tr>\n",
       "    <tr>\n",
       "      <th>2</th>\n",
       "      <td>2</td>\n",
       "      <td>3</td>\n",
       "      <td>0</td>\n",
       "      <td>3</td>\n",
       "      <td>0</td>\n",
       "      <td>1</td>\n",
       "      <td>!!!!!!! RT @UrKindOfBrand Dawg!!!! RT @80sbaby...</td>\n",
       "    </tr>\n",
       "    <tr>\n",
       "      <th>3</th>\n",
       "      <td>3</td>\n",
       "      <td>3</td>\n",
       "      <td>0</td>\n",
       "      <td>2</td>\n",
       "      <td>1</td>\n",
       "      <td>1</td>\n",
       "      <td>!!!!!!!!! RT @C_G_Anderson: @viva_based she lo...</td>\n",
       "    </tr>\n",
       "    <tr>\n",
       "      <th>4</th>\n",
       "      <td>4</td>\n",
       "      <td>6</td>\n",
       "      <td>0</td>\n",
       "      <td>6</td>\n",
       "      <td>0</td>\n",
       "      <td>1</td>\n",
       "      <td>!!!!!!!!!!!!! RT @ShenikaRoberts: The shit you...</td>\n",
       "    </tr>\n",
       "  </tbody>\n",
       "</table>\n",
       "</div>"
      ],
      "text/plain": [
       "   Unnamed: 0  count  hate_speech  offensive_language  neither  class  \\\n",
       "0           0      3            0                   0        3      2   \n",
       "1           1      3            0                   3        0      1   \n",
       "2           2      3            0                   3        0      1   \n",
       "3           3      3            0                   2        1      1   \n",
       "4           4      6            0                   6        0      1   \n",
       "\n",
       "                                               tweet  \n",
       "0  !!! RT @mayasolovely: As a woman you shouldn't...  \n",
       "1  !!!!! RT @mleew17: boy dats cold...tyga dwn ba...  \n",
       "2  !!!!!!! RT @UrKindOfBrand Dawg!!!! RT @80sbaby...  \n",
       "3  !!!!!!!!! RT @C_G_Anderson: @viva_based she lo...  \n",
       "4  !!!!!!!!!!!!! RT @ShenikaRoberts: The shit you...  "
      ]
     },
     "execution_count": 7,
     "metadata": {},
     "output_type": "execute_result"
    }
   ],
   "source": [
    "hate_df.head()"
   ]
  },
  {
   "cell_type": "markdown",
   "id": "4cbceb8b-3e8e-4832-81e9-a989f390cffc",
   "metadata": {},
   "source": [
    "## Data Prepocessing"
   ]
  },
  {
   "cell_type": "code",
   "execution_count": 8,
   "id": "b87b3fe4-577e-49d3-86a2-a88003da5464",
   "metadata": {},
   "outputs": [],
   "source": [
    "#dropping unwanted columns\n",
    "emotion_df.drop(columns=['Unnamed: 0'], inplace=True)\n",
    "violence_df.drop(columns=['Tweet_ID'], inplace=True)\n",
    "hate_df = hate_df[['tweet', 'class']]"
   ]
  },
  {
   "cell_type": "code",
   "execution_count": 9,
   "id": "382d0008-009c-4b95-aff6-b0f77a393f8b",
   "metadata": {},
   "outputs": [
    {
     "data": {
      "text/html": [
       "<div>\n",
       "<style scoped>\n",
       "    .dataframe tbody tr th:only-of-type {\n",
       "        vertical-align: middle;\n",
       "    }\n",
       "\n",
       "    .dataframe tbody tr th {\n",
       "        vertical-align: top;\n",
       "    }\n",
       "\n",
       "    .dataframe thead th {\n",
       "        text-align: right;\n",
       "    }\n",
       "</style>\n",
       "<table border=\"1\" class=\"dataframe\">\n",
       "  <thead>\n",
       "    <tr style=\"text-align: right;\">\n",
       "      <th></th>\n",
       "      <th>text</th>\n",
       "      <th>label</th>\n",
       "    </tr>\n",
       "  </thead>\n",
       "  <tbody>\n",
       "    <tr>\n",
       "      <th>0</th>\n",
       "      <td>i just feel really helpless and heavy hearted</td>\n",
       "      <td>4</td>\n",
       "    </tr>\n",
       "    <tr>\n",
       "      <th>1</th>\n",
       "      <td>ive enjoyed being able to slouch about relax a...</td>\n",
       "      <td>0</td>\n",
       "    </tr>\n",
       "    <tr>\n",
       "      <th>2</th>\n",
       "      <td>i gave up my internship with the dmrg and am f...</td>\n",
       "      <td>4</td>\n",
       "    </tr>\n",
       "    <tr>\n",
       "      <th>3</th>\n",
       "      <td>i dont know i feel so lost</td>\n",
       "      <td>0</td>\n",
       "    </tr>\n",
       "    <tr>\n",
       "      <th>4</th>\n",
       "      <td>i am a kindergarten teacher and i am thoroughl...</td>\n",
       "      <td>4</td>\n",
       "    </tr>\n",
       "  </tbody>\n",
       "</table>\n",
       "</div>"
      ],
      "text/plain": [
       "                                                text  label\n",
       "0      i just feel really helpless and heavy hearted      4\n",
       "1  ive enjoyed being able to slouch about relax a...      0\n",
       "2  i gave up my internship with the dmrg and am f...      4\n",
       "3                         i dont know i feel so lost      0\n",
       "4  i am a kindergarten teacher and i am thoroughl...      4"
      ]
     },
     "execution_count": 9,
     "metadata": {},
     "output_type": "execute_result"
    }
   ],
   "source": [
    "emotion_df.head()"
   ]
  },
  {
   "cell_type": "code",
   "execution_count": 10,
   "id": "216b0102-20db-468e-a1aa-cba456718fe5",
   "metadata": {},
   "outputs": [
    {
     "data": {
      "text/html": [
       "<div>\n",
       "<style scoped>\n",
       "    .dataframe tbody tr th:only-of-type {\n",
       "        vertical-align: middle;\n",
       "    }\n",
       "\n",
       "    .dataframe tbody tr th {\n",
       "        vertical-align: top;\n",
       "    }\n",
       "\n",
       "    .dataframe thead th {\n",
       "        text-align: right;\n",
       "    }\n",
       "</style>\n",
       "<table border=\"1\" class=\"dataframe\">\n",
       "  <thead>\n",
       "    <tr style=\"text-align: right;\">\n",
       "      <th></th>\n",
       "      <th>tweet</th>\n",
       "      <th>type</th>\n",
       "    </tr>\n",
       "  </thead>\n",
       "  <tbody>\n",
       "    <tr>\n",
       "      <th>0</th>\n",
       "      <td>Had a dream i got raped last night. By a guy i...</td>\n",
       "      <td>sexual_violence</td>\n",
       "    </tr>\n",
       "    <tr>\n",
       "      <th>1</th>\n",
       "      <td>he thought the word raped means sex and told m...</td>\n",
       "      <td>sexual_violence</td>\n",
       "    </tr>\n",
       "    <tr>\n",
       "      <th>2</th>\n",
       "      <td>She NOT TALKING TO ME I WAS RAPED BY 2 MEN 1 M...</td>\n",
       "      <td>sexual_violence</td>\n",
       "    </tr>\n",
       "    <tr>\n",
       "      <th>3</th>\n",
       "      <td>I was sexually abused for 3 years at age 4 to ...</td>\n",
       "      <td>sexual_violence</td>\n",
       "    </tr>\n",
       "    <tr>\n",
       "      <th>4</th>\n",
       "      <td>Chessy Prout can do better by telling the trut...</td>\n",
       "      <td>sexual_violence</td>\n",
       "    </tr>\n",
       "  </tbody>\n",
       "</table>\n",
       "</div>"
      ],
      "text/plain": [
       "                                               tweet             type\n",
       "0  Had a dream i got raped last night. By a guy i...  sexual_violence\n",
       "1  he thought the word raped means sex and told m...  sexual_violence\n",
       "2  She NOT TALKING TO ME I WAS RAPED BY 2 MEN 1 M...  sexual_violence\n",
       "3  I was sexually abused for 3 years at age 4 to ...  sexual_violence\n",
       "4  Chessy Prout can do better by telling the trut...  sexual_violence"
      ]
     },
     "execution_count": 10,
     "metadata": {},
     "output_type": "execute_result"
    }
   ],
   "source": [
    "violence_df.head()"
   ]
  },
  {
   "cell_type": "code",
   "execution_count": 11,
   "id": "1537ab7e-2f9d-433a-9b8e-0422bc50fa57",
   "metadata": {},
   "outputs": [
    {
     "data": {
      "text/html": [
       "<div>\n",
       "<style scoped>\n",
       "    .dataframe tbody tr th:only-of-type {\n",
       "        vertical-align: middle;\n",
       "    }\n",
       "\n",
       "    .dataframe tbody tr th {\n",
       "        vertical-align: top;\n",
       "    }\n",
       "\n",
       "    .dataframe thead th {\n",
       "        text-align: right;\n",
       "    }\n",
       "</style>\n",
       "<table border=\"1\" class=\"dataframe\">\n",
       "  <thead>\n",
       "    <tr style=\"text-align: right;\">\n",
       "      <th></th>\n",
       "      <th>tweet</th>\n",
       "      <th>class</th>\n",
       "    </tr>\n",
       "  </thead>\n",
       "  <tbody>\n",
       "    <tr>\n",
       "      <th>0</th>\n",
       "      <td>!!! RT @mayasolovely: As a woman you shouldn't...</td>\n",
       "      <td>2</td>\n",
       "    </tr>\n",
       "    <tr>\n",
       "      <th>1</th>\n",
       "      <td>!!!!! RT @mleew17: boy dats cold...tyga dwn ba...</td>\n",
       "      <td>1</td>\n",
       "    </tr>\n",
       "    <tr>\n",
       "      <th>2</th>\n",
       "      <td>!!!!!!! RT @UrKindOfBrand Dawg!!!! RT @80sbaby...</td>\n",
       "      <td>1</td>\n",
       "    </tr>\n",
       "    <tr>\n",
       "      <th>3</th>\n",
       "      <td>!!!!!!!!! RT @C_G_Anderson: @viva_based she lo...</td>\n",
       "      <td>1</td>\n",
       "    </tr>\n",
       "    <tr>\n",
       "      <th>4</th>\n",
       "      <td>!!!!!!!!!!!!! RT @ShenikaRoberts: The shit you...</td>\n",
       "      <td>1</td>\n",
       "    </tr>\n",
       "  </tbody>\n",
       "</table>\n",
       "</div>"
      ],
      "text/plain": [
       "                                               tweet  class\n",
       "0  !!! RT @mayasolovely: As a woman you shouldn't...      2\n",
       "1  !!!!! RT @mleew17: boy dats cold...tyga dwn ba...      1\n",
       "2  !!!!!!! RT @UrKindOfBrand Dawg!!!! RT @80sbaby...      1\n",
       "3  !!!!!!!!! RT @C_G_Anderson: @viva_based she lo...      1\n",
       "4  !!!!!!!!!!!!! RT @ShenikaRoberts: The shit you...      1"
      ]
     },
     "execution_count": 11,
     "metadata": {},
     "output_type": "execute_result"
    }
   ],
   "source": [
    "hate_df.head()"
   ]
  },
  {
   "cell_type": "code",
   "execution_count": 12,
   "id": "7473e7c0-d2f6-47e4-89ae-d51b210c8da4",
   "metadata": {},
   "outputs": [
    {
     "data": {
      "text/plain": [
       "(Index(['text', 'label'], dtype='object'),\n",
       " Index(['tweet', 'type'], dtype='object'),\n",
       " Index(['tweet', 'class'], dtype='object'))"
      ]
     },
     "execution_count": 12,
     "metadata": {},
     "output_type": "execute_result"
    }
   ],
   "source": [
    "emotion_df.columns, violence_df.columns,  hate_df.columns"
   ]
  },
  {
   "cell_type": "code",
   "execution_count": 13,
   "id": "e948705e-925e-453d-b37c-e5ad58ec4389",
   "metadata": {},
   "outputs": [],
   "source": [
    "#renaming the columns\n",
    "violence_df.rename(columns={'tweet': 'text', 'type': 'label'}, inplace=True)\n",
    "hate_df.rename(columns={'tweet': 'text', 'class': 'label'}, inplace=True)"
   ]
  },
  {
   "cell_type": "code",
   "execution_count": 14,
   "id": "a10a9f00-b7ce-4140-8f37-1f895496c80c",
   "metadata": {},
   "outputs": [
    {
     "data": {
      "text/plain": [
       "RangeIndex(start=0, stop=24783, step=1)"
      ]
     },
     "execution_count": 14,
     "metadata": {},
     "output_type": "execute_result"
    }
   ],
   "source": [
    "hate_df.index"
   ]
  },
  {
   "cell_type": "code",
   "execution_count": 15,
   "id": "f1533c98-3f3b-451d-a9e6-f80f93282f44",
   "metadata": {},
   "outputs": [
    {
     "data": {
      "text/plain": [
       "(Index(['text', 'label'], dtype='object'),\n",
       " Index(['text', 'label'], dtype='object'),\n",
       " Index(['text', 'label'], dtype='object'))"
      ]
     },
     "execution_count": 15,
     "metadata": {},
     "output_type": "execute_result"
    }
   ],
   "source": [
    "emotion_df.columns, violence_df.columns,  hate_df.columns"
   ]
  },
  {
   "cell_type": "code",
   "execution_count": 16,
   "id": "a3348ee5-0fce-4cf0-be32-cbfddbd0a6f7",
   "metadata": {},
   "outputs": [
    {
     "data": {
      "text/plain": [
       "(text     0\n",
       " label    0\n",
       " dtype: int64,\n",
       " text     0\n",
       " label    0\n",
       " dtype: int64,\n",
       " text     0\n",
       " label    0\n",
       " dtype: int64)"
      ]
     },
     "execution_count": 16,
     "metadata": {},
     "output_type": "execute_result"
    }
   ],
   "source": [
    "#checking for null values\n",
    "emotion_df.isna().sum(), violence_df.isna().sum(), hate_df.isna().sum()"
   ]
  },
  {
   "cell_type": "code",
   "execution_count": 17,
   "id": "ea3b927d-dfc8-41bb-8135-d29b3d1a2d13",
   "metadata": {},
   "outputs": [
    {
     "data": {
      "text/plain": [
       "((416809, 2), (39650, 2), (24783, 2))"
      ]
     },
     "execution_count": 17,
     "metadata": {},
     "output_type": "execute_result"
    }
   ],
   "source": [
    "emotion_df.shape, violence_df.shape, hate_df.shape"
   ]
  },
  {
   "cell_type": "markdown",
   "id": "204dad9d-a790-443e-8ccf-021e3d9d86df",
   "metadata": {},
   "source": [
    "Taking(Extracting) 12000 rows from each dataset"
   ]
  },
  {
   "cell_type": "code",
   "execution_count": 18,
   "id": "c0eb3425-3028-4afd-8296-8e8db3b07319",
   "metadata": {},
   "outputs": [
    {
     "data": {
      "text/plain": [
       "label\n",
       "1    141067\n",
       "0    121187\n",
       "3     57317\n",
       "4     47712\n",
       "2     34554\n",
       "5     14972\n",
       "Name: count, dtype: int64"
      ]
     },
     "execution_count": 18,
     "metadata": {},
     "output_type": "execute_result"
    }
   ],
   "source": [
    "emotion_df['label'].value_counts()"
   ]
  },
  {
   "cell_type": "code",
   "execution_count": 19,
   "id": "4e510a26-837e-4a38-a8fd-0095dc2f1eaa",
   "metadata": {},
   "outputs": [
    {
     "data": {
      "text/html": [
       "<div>\n",
       "<style scoped>\n",
       "    .dataframe tbody tr th:only-of-type {\n",
       "        vertical-align: middle;\n",
       "    }\n",
       "\n",
       "    .dataframe tbody tr th {\n",
       "        vertical-align: top;\n",
       "    }\n",
       "\n",
       "    .dataframe thead th {\n",
       "        text-align: right;\n",
       "    }\n",
       "</style>\n",
       "<table border=\"1\" class=\"dataframe\">\n",
       "  <thead>\n",
       "    <tr style=\"text-align: right;\">\n",
       "      <th></th>\n",
       "      <th>text</th>\n",
       "      <th>label</th>\n",
       "    </tr>\n",
       "  </thead>\n",
       "  <tbody>\n",
       "    <tr>\n",
       "      <th>133243</th>\n",
       "      <td>ive learned to surround myself with women who ...</td>\n",
       "      <td>0</td>\n",
       "    </tr>\n",
       "    <tr>\n",
       "      <th>88501</th>\n",
       "      <td>i already feel crappy because of this and you ...</td>\n",
       "      <td>0</td>\n",
       "    </tr>\n",
       "    <tr>\n",
       "      <th>131379</th>\n",
       "      <td>i feel like i have lost mourned and moved past...</td>\n",
       "      <td>0</td>\n",
       "    </tr>\n",
       "    <tr>\n",
       "      <th>148369</th>\n",
       "      <td>i could write a whole lot more about why im fe...</td>\n",
       "      <td>0</td>\n",
       "    </tr>\n",
       "    <tr>\n",
       "      <th>134438</th>\n",
       "      <td>i always seem to feel inadequate</td>\n",
       "      <td>0</td>\n",
       "    </tr>\n",
       "    <tr>\n",
       "      <th>...</th>\n",
       "      <td>...</td>\n",
       "      <td>...</td>\n",
       "    </tr>\n",
       "    <tr>\n",
       "      <th>32372</th>\n",
       "      <td>i admire makes me feel amazed at my life</td>\n",
       "      <td>5</td>\n",
       "    </tr>\n",
       "    <tr>\n",
       "      <th>102832</th>\n",
       "      <td>i would likely not repurchase as i do not feel...</td>\n",
       "      <td>5</td>\n",
       "    </tr>\n",
       "    <tr>\n",
       "      <th>352035</th>\n",
       "      <td>i can t help it i feel weird asking somebody t...</td>\n",
       "      <td>5</td>\n",
       "    </tr>\n",
       "    <tr>\n",
       "      <th>11976</th>\n",
       "      <td>i still feel and am shocked that im getting cl...</td>\n",
       "      <td>5</td>\n",
       "    </tr>\n",
       "    <tr>\n",
       "      <th>112047</th>\n",
       "      <td>i add grapefruit to my diet i react and feel f...</td>\n",
       "      <td>5</td>\n",
       "    </tr>\n",
       "  </tbody>\n",
       "</table>\n",
       "<p>12000 rows × 2 columns</p>\n",
       "</div>"
      ],
      "text/plain": [
       "                                                     text  label\n",
       "133243  ive learned to surround myself with women who ...      0\n",
       "88501   i already feel crappy because of this and you ...      0\n",
       "131379  i feel like i have lost mourned and moved past...      0\n",
       "148369  i could write a whole lot more about why im fe...      0\n",
       "134438                   i always seem to feel inadequate      0\n",
       "...                                                   ...    ...\n",
       "32372            i admire makes me feel amazed at my life      5\n",
       "102832  i would likely not repurchase as i do not feel...      5\n",
       "352035  i can t help it i feel weird asking somebody t...      5\n",
       "11976   i still feel and am shocked that im getting cl...      5\n",
       "112047  i add grapefruit to my diet i react and feel f...      5\n",
       "\n",
       "[12000 rows x 2 columns]"
      ]
     },
     "execution_count": 19,
     "metadata": {},
     "output_type": "execute_result"
    }
   ],
   "source": [
    "e_df = pd.DataFrame()\n",
    "for i in range(6):\n",
    "    subset = emotion_df[emotion_df['label'] == i].sample(n=2000, random_state=42)\n",
    "    e_df = pd.concat([e_df,subset])\n",
    "\n",
    "e_df"
   ]
  },
  {
   "cell_type": "code",
   "execution_count": 20,
   "id": "e3f691c3-f0dd-47fb-9307-9b6af1f2ae9f",
   "metadata": {},
   "outputs": [
    {
     "data": {
      "text/plain": [
       "(12000, 2)"
      ]
     },
     "execution_count": 20,
     "metadata": {},
     "output_type": "execute_result"
    }
   ],
   "source": [
    "e_df.shape"
   ]
  },
  {
   "cell_type": "code",
   "execution_count": 21,
   "id": "c877e55e-8fcf-4e2e-8e78-39b31f99dd1a",
   "metadata": {},
   "outputs": [],
   "source": [
    "emotion_df = e_df.copy()"
   ]
  },
  {
   "cell_type": "code",
   "execution_count": 22,
   "id": "3b4492a6-c190-46e6-8721-16f59657a707",
   "metadata": {},
   "outputs": [
    {
     "data": {
      "text/plain": [
       "label\n",
       "0    2000\n",
       "1    2000\n",
       "2    2000\n",
       "3    2000\n",
       "4    2000\n",
       "5    2000\n",
       "Name: count, dtype: int64"
      ]
     },
     "execution_count": 22,
     "metadata": {},
     "output_type": "execute_result"
    }
   ],
   "source": [
    "emotion_df['label'].value_counts()"
   ]
  },
  {
   "cell_type": "code",
   "execution_count": 23,
   "id": "72859463-48ef-4ff0-8912-9463d8ccc2dd",
   "metadata": {},
   "outputs": [
    {
     "data": {
      "text/plain": [
       "label\n",
       "sexual_violence                 32648\n",
       "Physical_violence                5946\n",
       "emotional_violence                651\n",
       "economic_violence                 217\n",
       "Harmful_Traditional_practice      188\n",
       "Name: count, dtype: int64"
      ]
     },
     "execution_count": 23,
     "metadata": {},
     "output_type": "execute_result"
    }
   ],
   "source": [
    "violence_df['label'].value_counts()"
   ]
  },
  {
   "cell_type": "code",
   "execution_count": 24,
   "id": "b261beee-3f84-4fc8-9d94-2bd94c6eec43",
   "metadata": {},
   "outputs": [
    {
     "data": {
      "text/plain": [
       "0          sexual_violence\n",
       "1          sexual_violence\n",
       "2          sexual_violence\n",
       "3          sexual_violence\n",
       "4          sexual_violence\n",
       "               ...        \n",
       "39645      sexual_violence\n",
       "39646      sexual_violence\n",
       "39647    Physical_violence\n",
       "39648      sexual_violence\n",
       "39649      sexual_violence\n",
       "Name: label, Length: 39650, dtype: object"
      ]
     },
     "execution_count": 24,
     "metadata": {},
     "output_type": "execute_result"
    }
   ],
   "source": [
    "violence_df['label']"
   ]
  },
  {
   "cell_type": "code",
   "execution_count": 25,
   "id": "173c39d4-8fb7-4243-8a33-4154fde20d0b",
   "metadata": {},
   "outputs": [],
   "source": [
    "#we just want 4998 rows from the sexual_violence label\n",
    "sexual_violence = violence_df[violence_df['label'] == 'sexual_violence'].sample(n=4998, random_state=42)\n",
    "violence_df = violence_df[violence_df['label'] != 'sexual_violence']"
   ]
  },
  {
   "cell_type": "code",
   "execution_count": 26,
   "id": "22fe7bb4-e539-4af7-b529-51469afd0ece",
   "metadata": {},
   "outputs": [
    {
     "data": {
      "text/plain": [
       "(7002, 2)"
      ]
     },
     "execution_count": 26,
     "metadata": {},
     "output_type": "execute_result"
    }
   ],
   "source": [
    "violence_df.shape"
   ]
  },
  {
   "cell_type": "code",
   "execution_count": 27,
   "id": "fd9f7744-adc6-4665-89e6-914c780ca48c",
   "metadata": {},
   "outputs": [],
   "source": [
    "violence_df = pd.concat([sexual_violence, violence_df], axis=0)"
   ]
  },
  {
   "cell_type": "code",
   "execution_count": 28,
   "id": "d9960d70-2d7c-431c-a309-7a6fb2d8c5a2",
   "metadata": {},
   "outputs": [
    {
     "data": {
      "text/html": [
       "<div>\n",
       "<style scoped>\n",
       "    .dataframe tbody tr th:only-of-type {\n",
       "        vertical-align: middle;\n",
       "    }\n",
       "\n",
       "    .dataframe tbody tr th {\n",
       "        vertical-align: top;\n",
       "    }\n",
       "\n",
       "    .dataframe thead th {\n",
       "        text-align: right;\n",
       "    }\n",
       "</style>\n",
       "<table border=\"1\" class=\"dataframe\">\n",
       "  <thead>\n",
       "    <tr style=\"text-align: right;\">\n",
       "      <th></th>\n",
       "      <th>text</th>\n",
       "      <th>label</th>\n",
       "    </tr>\n",
       "  </thead>\n",
       "  <tbody>\n",
       "    <tr>\n",
       "      <th>35209</th>\n",
       "      <td>My cousin was raped by this guy Matthew. She w...</td>\n",
       "      <td>sexual_violence</td>\n",
       "    </tr>\n",
       "    <tr>\n",
       "      <th>38191</th>\n",
       "      <td>HAHAHAHAHAHAHHA I DIDN’T SEE IT THE FIRST TIME...</td>\n",
       "      <td>sexual_violence</td>\n",
       "    </tr>\n",
       "    <tr>\n",
       "      <th>20925</th>\n",
       "      <td>I remember how I almost got raped like it was ...</td>\n",
       "      <td>sexual_violence</td>\n",
       "    </tr>\n",
       "    <tr>\n",
       "      <th>16674</th>\n",
       "      <td>He raped me 👈</td>\n",
       "      <td>sexual_violence</td>\n",
       "    </tr>\n",
       "    <tr>\n",
       "      <th>29906</th>\n",
       "      <td>A woman raped by A male: psychological horror,...</td>\n",
       "      <td>sexual_violence</td>\n",
       "    </tr>\n",
       "    <tr>\n",
       "      <th>...</th>\n",
       "      <td>...</td>\n",
       "      <td>...</td>\n",
       "    </tr>\n",
       "    <tr>\n",
       "      <th>39611</th>\n",
       "      <td>Court grants woman’s divorce request, after hu...</td>\n",
       "      <td>Physical_violence</td>\n",
       "    </tr>\n",
       "    <tr>\n",
       "      <th>39623</th>\n",
       "      <td>** My husband beats my mother – Wife tells cou...</td>\n",
       "      <td>Physical_violence</td>\n",
       "    </tr>\n",
       "    <tr>\n",
       "      <th>39634</th>\n",
       "      <td>I was told that me saying Jake was a league av...</td>\n",
       "      <td>Physical_violence</td>\n",
       "    </tr>\n",
       "    <tr>\n",
       "      <th>39639</th>\n",
       "      <td>I’m Leaving My Husband Because He Beats And Ra...</td>\n",
       "      <td>Physical_violence</td>\n",
       "    </tr>\n",
       "    <tr>\n",
       "      <th>39647</th>\n",
       "      <td>My wife regularly beats me, I get dirty slaps ...</td>\n",
       "      <td>Physical_violence</td>\n",
       "    </tr>\n",
       "  </tbody>\n",
       "</table>\n",
       "<p>12000 rows × 2 columns</p>\n",
       "</div>"
      ],
      "text/plain": [
       "                                                    text              label\n",
       "35209  My cousin was raped by this guy Matthew. She w...    sexual_violence\n",
       "38191  HAHAHAHAHAHAHHA I DIDN’T SEE IT THE FIRST TIME...    sexual_violence\n",
       "20925  I remember how I almost got raped like it was ...    sexual_violence\n",
       "16674                                      He raped me 👈    sexual_violence\n",
       "29906  A woman raped by A male: psychological horror,...    sexual_violence\n",
       "...                                                  ...                ...\n",
       "39611  Court grants woman’s divorce request, after hu...  Physical_violence\n",
       "39623  ** My husband beats my mother – Wife tells cou...  Physical_violence\n",
       "39634  I was told that me saying Jake was a league av...  Physical_violence\n",
       "39639  I’m Leaving My Husband Because He Beats And Ra...  Physical_violence\n",
       "39647  My wife regularly beats me, I get dirty slaps ...  Physical_violence\n",
       "\n",
       "[12000 rows x 2 columns]"
      ]
     },
     "execution_count": 28,
     "metadata": {},
     "output_type": "execute_result"
    }
   ],
   "source": [
    "violence_df"
   ]
  },
  {
   "cell_type": "code",
   "execution_count": 29,
   "id": "d8b28570-828a-46b1-9e73-bb33437ca169",
   "metadata": {},
   "outputs": [
    {
     "data": {
      "text/plain": [
       "(12000, 2)"
      ]
     },
     "execution_count": 29,
     "metadata": {},
     "output_type": "execute_result"
    }
   ],
   "source": [
    "violence_df.shape"
   ]
  },
  {
   "cell_type": "code",
   "execution_count": 30,
   "id": "bf58a9cf-eeca-4352-a56b-c5b5d7b15b8d",
   "metadata": {},
   "outputs": [
    {
     "data": {
      "text/plain": [
       "label\n",
       "1    19190\n",
       "2     4163\n",
       "0     1430\n",
       "Name: count, dtype: int64"
      ]
     },
     "execution_count": 30,
     "metadata": {},
     "output_type": "execute_result"
    }
   ],
   "source": [
    "hate_df['label'].value_counts()"
   ]
  },
  {
   "cell_type": "code",
   "execution_count": 31,
   "id": "22e33bae-5993-4761-bc54-46ff85ce5197",
   "metadata": {},
   "outputs": [],
   "source": [
    "#we just want 6407 rows from the offensive speech label (1)\n",
    "offensive_speech = hate_df[hate_df['label'] == 1].sample(n=6407, random_state=42)\n",
    "hate_df = hate_df[hate_df['label'] != 1]\n",
    "hate_df = pd.concat([offensive_speech, hate_df], axis=0)"
   ]
  },
  {
   "cell_type": "code",
   "execution_count": 32,
   "id": "b7c00ab0-df72-4efb-8353-777856001680",
   "metadata": {},
   "outputs": [
    {
     "data": {
      "text/plain": [
       "(12000, 2)"
      ]
     },
     "execution_count": 32,
     "metadata": {},
     "output_type": "execute_result"
    }
   ],
   "source": [
    "hate_df.shape"
   ]
  },
  {
   "cell_type": "code",
   "execution_count": 33,
   "id": "5ff5daa6-4904-46ef-bb9d-5ba4be98fe69",
   "metadata": {},
   "outputs": [
    {
     "data": {
      "text/plain": [
       "((12000, 2), (12000, 2), (12000, 2))"
      ]
     },
     "execution_count": 33,
     "metadata": {},
     "output_type": "execute_result"
    }
   ],
   "source": [
    "emotion_df.shape, violence_df.shape, hate_df.shape"
   ]
  },
  {
   "cell_type": "markdown",
   "id": "a6f1f35e-ec6f-4c54-beaa-916b63f54f68",
   "metadata": {},
   "source": [
    "Resetting the indexes"
   ]
  },
  {
   "cell_type": "code",
   "execution_count": 34,
   "id": "b778d8a0-92d5-4147-901f-cf4b23646974",
   "metadata": {},
   "outputs": [],
   "source": [
    "emotion_df.reset_index(drop=True, inplace=True)\n",
    "violence_df.reset_index(drop=True, inplace=True)\n",
    "hate_df.reset_index(drop=True, inplace=True)"
   ]
  },
  {
   "cell_type": "code",
   "execution_count": 35,
   "id": "9b2ca4a9-d527-4700-8cad-c19243dbb93d",
   "metadata": {},
   "outputs": [
    {
     "data": {
      "text/html": [
       "<div>\n",
       "<style scoped>\n",
       "    .dataframe tbody tr th:only-of-type {\n",
       "        vertical-align: middle;\n",
       "    }\n",
       "\n",
       "    .dataframe tbody tr th {\n",
       "        vertical-align: top;\n",
       "    }\n",
       "\n",
       "    .dataframe thead th {\n",
       "        text-align: right;\n",
       "    }\n",
       "</style>\n",
       "<table border=\"1\" class=\"dataframe\">\n",
       "  <thead>\n",
       "    <tr style=\"text-align: right;\">\n",
       "      <th></th>\n",
       "      <th>text</th>\n",
       "      <th>label</th>\n",
       "    </tr>\n",
       "  </thead>\n",
       "  <tbody>\n",
       "    <tr>\n",
       "      <th>0</th>\n",
       "      <td>ive learned to surround myself with women who ...</td>\n",
       "      <td>0</td>\n",
       "    </tr>\n",
       "    <tr>\n",
       "      <th>1</th>\n",
       "      <td>i already feel crappy because of this and you ...</td>\n",
       "      <td>0</td>\n",
       "    </tr>\n",
       "    <tr>\n",
       "      <th>2</th>\n",
       "      <td>i feel like i have lost mourned and moved past...</td>\n",
       "      <td>0</td>\n",
       "    </tr>\n",
       "  </tbody>\n",
       "</table>\n",
       "</div>"
      ],
      "text/plain": [
       "                                                text  label\n",
       "0  ive learned to surround myself with women who ...      0\n",
       "1  i already feel crappy because of this and you ...      0\n",
       "2  i feel like i have lost mourned and moved past...      0"
      ]
     },
     "execution_count": 35,
     "metadata": {},
     "output_type": "execute_result"
    }
   ],
   "source": [
    "emotion_df.head(3)"
   ]
  },
  {
   "cell_type": "markdown",
   "id": "8c2ee8c7-3e55-4502-abb6-3d19f81adedc",
   "metadata": {},
   "source": [
    "## Label Encoding"
   ]
  },
  {
   "cell_type": "code",
   "execution_count": 36,
   "id": "4d7cd1d4-d870-43c2-90e0-b5065a51e0f5",
   "metadata": {},
   "outputs": [],
   "source": [
    "label_encoder = LabelEncoder()\n",
    "violence_df['label'] = label_encoder.fit_transform(violence_df['label'])"
   ]
  },
  {
   "cell_type": "code",
   "execution_count": 37,
   "id": "02a6dbb5-3ef1-4ba2-b4bc-2ce6715549fa",
   "metadata": {},
   "outputs": [
    {
     "data": {
      "text/html": [
       "<div>\n",
       "<style scoped>\n",
       "    .dataframe tbody tr th:only-of-type {\n",
       "        vertical-align: middle;\n",
       "    }\n",
       "\n",
       "    .dataframe tbody tr th {\n",
       "        vertical-align: top;\n",
       "    }\n",
       "\n",
       "    .dataframe thead th {\n",
       "        text-align: right;\n",
       "    }\n",
       "</style>\n",
       "<table border=\"1\" class=\"dataframe\">\n",
       "  <thead>\n",
       "    <tr style=\"text-align: right;\">\n",
       "      <th></th>\n",
       "      <th>text</th>\n",
       "      <th>label</th>\n",
       "    </tr>\n",
       "  </thead>\n",
       "  <tbody>\n",
       "    <tr>\n",
       "      <th>0</th>\n",
       "      <td>My cousin was raped by this guy Matthew. She w...</td>\n",
       "      <td>4</td>\n",
       "    </tr>\n",
       "    <tr>\n",
       "      <th>1</th>\n",
       "      <td>HAHAHAHAHAHAHHA I DIDN’T SEE IT THE FIRST TIME...</td>\n",
       "      <td>4</td>\n",
       "    </tr>\n",
       "    <tr>\n",
       "      <th>2</th>\n",
       "      <td>I remember how I almost got raped like it was ...</td>\n",
       "      <td>4</td>\n",
       "    </tr>\n",
       "    <tr>\n",
       "      <th>3</th>\n",
       "      <td>He raped me 👈</td>\n",
       "      <td>4</td>\n",
       "    </tr>\n",
       "    <tr>\n",
       "      <th>4</th>\n",
       "      <td>A woman raped by A male: psychological horror,...</td>\n",
       "      <td>4</td>\n",
       "    </tr>\n",
       "  </tbody>\n",
       "</table>\n",
       "</div>"
      ],
      "text/plain": [
       "                                                text  label\n",
       "0  My cousin was raped by this guy Matthew. She w...      4\n",
       "1  HAHAHAHAHAHAHHA I DIDN’T SEE IT THE FIRST TIME...      4\n",
       "2  I remember how I almost got raped like it was ...      4\n",
       "3                                      He raped me 👈      4\n",
       "4  A woman raped by A male: psychological horror,...      4"
      ]
     },
     "execution_count": 37,
     "metadata": {},
     "output_type": "execute_result"
    }
   ],
   "source": [
    "violence_df.head()"
   ]
  },
  {
   "cell_type": "code",
   "execution_count": 38,
   "id": "da031686-e7bf-4634-b589-8ec480d9e545",
   "metadata": {},
   "outputs": [
    {
     "data": {
      "text/plain": [
       "array([4, 1, 3, 0, 2])"
      ]
     },
     "execution_count": 38,
     "metadata": {},
     "output_type": "execute_result"
    }
   ],
   "source": [
    "violence_df['label'].unique()"
   ]
  },
  {
   "cell_type": "code",
   "execution_count": 39,
   "id": "bde8226b-d431-474f-b40a-652808e12663",
   "metadata": {},
   "outputs": [
    {
     "data": {
      "text/plain": [
       "array([1, 2, 0], dtype=int64)"
      ]
     },
     "execution_count": 39,
     "metadata": {},
     "output_type": "execute_result"
    }
   ],
   "source": [
    "hate_df['label'].unique()"
   ]
  },
  {
   "cell_type": "code",
   "execution_count": 40,
   "id": "a670f41e-ceae-4b0f-8d89-4b3b2a024e5b",
   "metadata": {},
   "outputs": [
    {
     "data": {
      "text/plain": [
       "array([0, 1, 2, 3, 4, 5], dtype=int64)"
      ]
     },
     "execution_count": 40,
     "metadata": {},
     "output_type": "execute_result"
    }
   ],
   "source": [
    "emotion_df['label'].unique()"
   ]
  },
  {
   "cell_type": "markdown",
   "id": "46b99457-5246-42fd-bf13-e82354c74ccb",
   "metadata": {},
   "source": [
    "## Stopwords Removal"
   ]
  },
  {
   "cell_type": "code",
   "execution_count": 41,
   "id": "80c3d7d2-c005-4df4-98ce-b133d959bc45",
   "metadata": {},
   "outputs": [
    {
     "name": "stderr",
     "output_type": "stream",
     "text": [
      "[nltk_data] Downloading package stopwords to C:\\Users\\Mariam\n",
      "[nltk_data]     Aghamalyan\\AppData\\Roaming\\nltk_data...\n",
      "[nltk_data]   Package stopwords is already up-to-date!\n",
      "[nltk_data] Downloading package punkt to C:\\Users\\Mariam\n",
      "[nltk_data]     Aghamalyan\\AppData\\Roaming\\nltk_data...\n",
      "[nltk_data]   Package punkt is already up-to-date!\n"
     ]
    },
    {
     "data": {
      "text/plain": [
       "True"
      ]
     },
     "execution_count": 41,
     "metadata": {},
     "output_type": "execute_result"
    }
   ],
   "source": [
    "nltk.download('stopwords')\n",
    "nltk.download('punkt')"
   ]
  },
  {
   "cell_type": "code",
   "execution_count": 42,
   "id": "8f497ae9-10e0-4e8e-89ac-61e685e2b4e0",
   "metadata": {},
   "outputs": [],
   "source": [
    "#loading the stopwords\n",
    "stop_words = set(stopwords.words('english'))"
   ]
  },
  {
   "cell_type": "code",
   "execution_count": 43,
   "id": "f2163e59-188b-4bda-9f0d-659771dccd8d",
   "metadata": {},
   "outputs": [
    {
     "data": {
      "text/plain": [
       "179"
      ]
     },
     "execution_count": 43,
     "metadata": {},
     "output_type": "execute_result"
    }
   ],
   "source": [
    "len(stop_words)"
   ]
  },
  {
   "cell_type": "code",
   "execution_count": 44,
   "id": "ddc4356b-e9df-418a-914c-66a1981f0eb5",
   "metadata": {},
   "outputs": [],
   "source": [
    "#stopwords removal function\n",
    "\n",
    "def remove_stopwords(text):\n",
    "    all_words = nltk.word_tokenize(text)\n",
    "    filtered_words = [word for word in all_words if word.lower() not in stop_words]\n",
    "    return ' '.join(filtered_words)"
   ]
  },
  {
   "cell_type": "code",
   "execution_count": 45,
   "id": "1b622626-10f7-4754-ae95-fa68cf7d4337",
   "metadata": {},
   "outputs": [],
   "source": [
    "emotion_df['text'] = emotion_df['text'].apply(remove_stopwords)\n",
    "violence_df['text'] = violence_df['text'].apply(remove_stopwords)\n",
    "hate_df['text'] = hate_df['text'].apply(remove_stopwords)"
   ]
  },
  {
   "cell_type": "markdown",
   "id": "fe2b8918-647e-41a4-a2cc-d2f1f4cdd40d",
   "metadata": {},
   "source": [
    "## Tokenization & Padding"
   ]
  },
  {
   "cell_type": "code",
   "execution_count": 46,
   "id": "4a5be7b9-c241-4511-977d-49a65fb25fc4",
   "metadata": {},
   "outputs": [],
   "source": [
    "tokenizer = Tokenizer()\n",
    "tokenizer.fit_on_texts(pd.concat([emotion_df['text'], violence_df['text'], hate_df['text']]))"
   ]
  },
  {
   "cell_type": "code",
   "execution_count": 47,
   "id": "b202693f-6198-40aa-b705-ffe1a5b1ca8d",
   "metadata": {},
   "outputs": [],
   "source": [
    "emotion_sequences = tokenizer.texts_to_sequences(emotion_df['text'])\n",
    "violence_sequences = tokenizer.texts_to_sequences(violence_df['text'])\n",
    "hate_sequences = tokenizer.texts_to_sequences(hate_df['text'])"
   ]
  },
  {
   "cell_type": "code",
   "execution_count": 48,
   "id": "9e1bb2b0-5f5f-433c-8362-245d787b7b44",
   "metadata": {},
   "outputs": [],
   "source": [
    "# lengths_e = [len(seq) for seq in emotion_sequences]\n",
    "# print(f\"Min length: {min(lengths_e)}, Max length: {max(lengths_e)}, Average length: {sum(lengths_e)/len(lengths_e)}\")\n",
    "# lengths_v = [len(seq) for seq in violence_sequences]\n",
    "# print(f\"Min length: {min(lengths_v)}, Max length: {max(lengths_v)}, Average length: {sum(lengths_v)/len(lengths_v)}\")\n",
    "# lengths_h = [len(seq) for seq in hate_sequences]\n",
    "# print(f\"Min length: {min(lengths_h)}, Max length: {max(lengths_h)}, Average length: {sum(lengths_h)/len(lengths_h)}\")"
   ]
  },
  {
   "cell_type": "code",
   "execution_count": 49,
   "id": "425133bb-3e58-405e-9be2-47576e62d673",
   "metadata": {},
   "outputs": [],
   "source": [
    "max_length = 50\n",
    "emotion_padded = pad_sequences(emotion_sequences, maxlen=max_length, padding='post')\n",
    "violence_padded = pad_sequences(violence_sequences, maxlen=max_length, padding='post')\n",
    "hate_padded = pad_sequences(hate_sequences, maxlen=max_length, padding='post')"
   ]
  },
  {
   "cell_type": "code",
   "execution_count": 50,
   "id": "886f902a-b0fb-45eb-a6b5-ff59cad21d72",
   "metadata": {},
   "outputs": [],
   "source": [
    "#generating labels in numpy array format\n",
    "emotion_labels = np.array(emotion_df['label'])\n",
    "violence_labels = np.array(violence_df['label'])\n",
    "hate_labels = np.array(hate_df['label'])"
   ]
  },
  {
   "cell_type": "markdown",
   "id": "2fb55683-80ec-43b0-a500-51f6337632d5",
   "metadata": {},
   "source": [
    "## Model Definition"
   ]
  },
  {
   "cell_type": "code",
   "execution_count": 51,
   "id": "555d6559-82a1-4c54-bef5-d4f0f555c671",
   "metadata": {},
   "outputs": [],
   "source": [
    "#prepare seperate inputs for each dataset\n",
    "emotion_input = emotion_padded\n",
    "violence_input = violence_padded\n",
    "hate_input = hate_padded"
   ]
  },
  {
   "cell_type": "code",
   "execution_count": 52,
   "id": "e04528ba-f85a-447d-82ad-1d20d0fd7067",
   "metadata": {},
   "outputs": [],
   "source": [
    "#defining multiple input layer for each task\n",
    "emotion_input_layer = keras.layers.Input(shape=(max_length,), name='emotion_input')\n",
    "violence_input_layer = keras.layers.Input(shape=(max_length,), name='violence_input')\n",
    "hate_input_layer = keras.layers.Input(shape=(max_length,), name='hate_input')"
   ]
  },
  {
   "cell_type": "code",
   "execution_count": 53,
   "id": "e2cae3e4-2e60-4ae7-a49c-e583d962f91a",
   "metadata": {},
   "outputs": [],
   "source": [
    "#use as shared embedding layer\n",
    "embedding_layer = keras.layers.Embedding(input_dim=len(tokenizer.word_index)+1, output_dim=128)"
   ]
  },
  {
   "cell_type": "code",
   "execution_count": 54,
   "id": "3a7671b6-d634-4386-b67f-b6cf0aa061f8",
   "metadata": {},
   "outputs": [],
   "source": [
    "#applying the embedding layer to each input\n",
    "emotion_embedding = embedding_layer(emotion_input_layer)\n",
    "violence_embedding = embedding_layer(violence_input_layer)\n",
    "hate_embedding = embedding_layer(hate_input_layer)"
   ]
  },
  {
   "cell_type": "code",
   "execution_count": 55,
   "id": "16f66aa4-9f70-48b2-9b0c-a9d871290a7c",
   "metadata": {},
   "outputs": [],
   "source": [
    "#shared LSTM layer\n",
    "shared_lstm = keras.layers.LSTM(64, return_sequences=True)"
   ]
  },
  {
   "cell_type": "code",
   "execution_count": 56,
   "id": "fb0cd081-e3dd-4d2e-a677-ae643478e719",
   "metadata": {},
   "outputs": [],
   "source": [
    "emotion_lstm = shared_lstm(emotion_embedding)\n",
    "violence_lstm = shared_lstm(violence_embedding)\n",
    "hate_lstm = shared_lstm(hate_embedding)"
   ]
  },
  {
   "cell_type": "code",
   "execution_count": 57,
   "id": "cf8a0c99-bb10-44a5-b5c8-38cf0d50c6b7",
   "metadata": {},
   "outputs": [],
   "source": [
    "#shared global average pooling layer and dropout layer\n",
    "shared_pooling = keras.layers.GlobalAveragePooling1D()\n",
    "shared_dropout = keras.layers.Dropout(0.5)"
   ]
  },
  {
   "cell_type": "code",
   "execution_count": 58,
   "id": "b7b1b359-5499-46e4-9174-7ef945038b45",
   "metadata": {},
   "outputs": [],
   "source": [
    "emotion_features = shared_dropout(shared_pooling(emotion_lstm))\n",
    "violence_features = shared_dropout(shared_pooling(violence_lstm))\n",
    "hate_features = shared_dropout(shared_pooling(hate_lstm))"
   ]
  },
  {
   "cell_type": "code",
   "execution_count": 59,
   "id": "fc3a2afe-8394-4219-adb8-f335b5fd07a2",
   "metadata": {},
   "outputs": [
    {
     "data": {
      "text/plain": [
       "(6, 5, 3)"
      ]
     },
     "execution_count": 59,
     "metadata": {},
     "output_type": "execute_result"
    }
   ],
   "source": [
    "#deciding on how many neurons each output should have\n",
    "len(emotion_df['label'].unique()), len(violence_df['label'].unique()), len(hate_df['label'].unique())"
   ]
  },
  {
   "cell_type": "code",
   "execution_count": 60,
   "id": "17d79da5-e2e5-4f11-b9bf-0e75c88e44d3",
   "metadata": {},
   "outputs": [],
   "source": [
    "#output layers\n",
    "emotion_output = keras.layers.Dense(6, activation='softmax', name='emotion_output')(emotion_features)\n",
    "violence_output = keras.layers.Dense(5, activation='softmax', name='violence_output')(violence_features)\n",
    "hate_output = keras.layers.Dense(3, activation='softmax', name='hate_output')(hate_features)"
   ]
  },
  {
   "cell_type": "code",
   "execution_count": 61,
   "id": "695bde13-0d1c-401d-99d6-10586b772598",
   "metadata": {},
   "outputs": [],
   "source": [
    "#compile the model with multiple inputs and outputs\n",
    "model = keras.models.Model(inputs = [emotion_input_layer, violence_input_layer, hate_input_layer],\n",
    "                          outputs= [emotion_output, violence_output, hate_output])\n",
    "model.compile(optimizer='adam',\n",
    "             loss={\n",
    "                 'emotion_output': 'sparse_categorical_crossentropy',\n",
    "                 'violence_output': 'sparse_categorical_crossentropy',\n",
    "                 'hate_output': 'sparse_categorical_crossentropy'\n",
    "             },\n",
    "             metrics={\n",
    "                 'emotion_output': 'accuracy',\n",
    "                 'violence_output': 'accuracy',\n",
    "                 'hate_output': 'accuracy'\n",
    "             })"
   ]
  },
  {
   "cell_type": "code",
   "execution_count": 62,
   "id": "9de4199f-477b-4a5b-a6e2-b184d48ca2af",
   "metadata": {},
   "outputs": [
    {
     "data": {
      "text/html": [
       "<pre style=\"white-space:pre;overflow-x:auto;line-height:normal;font-family:Menlo,'DejaVu Sans Mono',consolas,'Courier New',monospace\"><span style=\"font-weight: bold\">Model: \"functional\"</span>\n",
       "</pre>\n"
      ],
      "text/plain": [
       "\u001b[1mModel: \"functional\"\u001b[0m\n"
      ]
     },
     "metadata": {},
     "output_type": "display_data"
    },
    {
     "data": {
      "text/html": [
       "<pre style=\"white-space:pre;overflow-x:auto;line-height:normal;font-family:Menlo,'DejaVu Sans Mono',consolas,'Courier New',monospace\">┏━━━━━━━━━━━━━━━━━━━━━━━━━━━━━━━┳━━━━━━━━━━━━━━━━━━━━━━━━━━━┳━━━━━━━━━━━━━━━━━┳━━━━━━━━━━━━━━━━━━━━━━━━━━━━┓\n",
       "┃<span style=\"font-weight: bold\"> Layer (type)                  </span>┃<span style=\"font-weight: bold\"> Output Shape              </span>┃<span style=\"font-weight: bold\">         Param # </span>┃<span style=\"font-weight: bold\"> Connected to               </span>┃\n",
       "┡━━━━━━━━━━━━━━━━━━━━━━━━━━━━━━━╇━━━━━━━━━━━━━━━━━━━━━━━━━━━╇━━━━━━━━━━━━━━━━━╇━━━━━━━━━━━━━━━━━━━━━━━━━━━━┩\n",
       "│ emotion_input (<span style=\"color: #0087ff; text-decoration-color: #0087ff\">InputLayer</span>)    │ (<span style=\"color: #00d7ff; text-decoration-color: #00d7ff\">None</span>, <span style=\"color: #00af00; text-decoration-color: #00af00\">50</span>)                │               <span style=\"color: #00af00; text-decoration-color: #00af00\">0</span> │ -                          │\n",
       "├───────────────────────────────┼───────────────────────────┼─────────────────┼────────────────────────────┤\n",
       "│ violence_input (<span style=\"color: #0087ff; text-decoration-color: #0087ff\">InputLayer</span>)   │ (<span style=\"color: #00d7ff; text-decoration-color: #00d7ff\">None</span>, <span style=\"color: #00af00; text-decoration-color: #00af00\">50</span>)                │               <span style=\"color: #00af00; text-decoration-color: #00af00\">0</span> │ -                          │\n",
       "├───────────────────────────────┼───────────────────────────┼─────────────────┼────────────────────────────┤\n",
       "│ hate_input (<span style=\"color: #0087ff; text-decoration-color: #0087ff\">InputLayer</span>)       │ (<span style=\"color: #00d7ff; text-decoration-color: #00d7ff\">None</span>, <span style=\"color: #00af00; text-decoration-color: #00af00\">50</span>)                │               <span style=\"color: #00af00; text-decoration-color: #00af00\">0</span> │ -                          │\n",
       "├───────────────────────────────┼───────────────────────────┼─────────────────┼────────────────────────────┤\n",
       "│ embedding (<span style=\"color: #0087ff; text-decoration-color: #0087ff\">Embedding</span>)         │ (<span style=\"color: #00d7ff; text-decoration-color: #00d7ff\">None</span>, <span style=\"color: #00af00; text-decoration-color: #00af00\">50</span>, <span style=\"color: #00af00; text-decoration-color: #00af00\">128</span>)           │       <span style=\"color: #00af00; text-decoration-color: #00af00\">5,350,528</span> │ emotion_input[<span style=\"color: #00af00; text-decoration-color: #00af00\">0</span>][<span style=\"color: #00af00; text-decoration-color: #00af00\">0</span>],       │\n",
       "│                               │                           │                 │ violence_input[<span style=\"color: #00af00; text-decoration-color: #00af00\">0</span>][<span style=\"color: #00af00; text-decoration-color: #00af00\">0</span>],      │\n",
       "│                               │                           │                 │ hate_input[<span style=\"color: #00af00; text-decoration-color: #00af00\">0</span>][<span style=\"color: #00af00; text-decoration-color: #00af00\">0</span>]           │\n",
       "├───────────────────────────────┼───────────────────────────┼─────────────────┼────────────────────────────┤\n",
       "│ lstm (<span style=\"color: #0087ff; text-decoration-color: #0087ff\">LSTM</span>)                   │ (<span style=\"color: #00d7ff; text-decoration-color: #00d7ff\">None</span>, <span style=\"color: #00af00; text-decoration-color: #00af00\">50</span>, <span style=\"color: #00af00; text-decoration-color: #00af00\">64</span>)            │          <span style=\"color: #00af00; text-decoration-color: #00af00\">49,408</span> │ embedding[<span style=\"color: #00af00; text-decoration-color: #00af00\">0</span>][<span style=\"color: #00af00; text-decoration-color: #00af00\">0</span>],           │\n",
       "│                               │                           │                 │ embedding[<span style=\"color: #00af00; text-decoration-color: #00af00\">1</span>][<span style=\"color: #00af00; text-decoration-color: #00af00\">0</span>],           │\n",
       "│                               │                           │                 │ embedding[<span style=\"color: #00af00; text-decoration-color: #00af00\">2</span>][<span style=\"color: #00af00; text-decoration-color: #00af00\">0</span>]            │\n",
       "├───────────────────────────────┼───────────────────────────┼─────────────────┼────────────────────────────┤\n",
       "│ global_average_pooling1d      │ (<span style=\"color: #00d7ff; text-decoration-color: #00d7ff\">None</span>, <span style=\"color: #00af00; text-decoration-color: #00af00\">64</span>)                │               <span style=\"color: #00af00; text-decoration-color: #00af00\">0</span> │ lstm[<span style=\"color: #00af00; text-decoration-color: #00af00\">0</span>][<span style=\"color: #00af00; text-decoration-color: #00af00\">0</span>], lstm[<span style=\"color: #00af00; text-decoration-color: #00af00\">1</span>][<span style=\"color: #00af00; text-decoration-color: #00af00\">0</span>],    │\n",
       "│ (<span style=\"color: #0087ff; text-decoration-color: #0087ff\">GlobalAveragePooling1D</span>)      │                           │                 │ lstm[<span style=\"color: #00af00; text-decoration-color: #00af00\">2</span>][<span style=\"color: #00af00; text-decoration-color: #00af00\">0</span>]                 │\n",
       "├───────────────────────────────┼───────────────────────────┼─────────────────┼────────────────────────────┤\n",
       "│ dropout (<span style=\"color: #0087ff; text-decoration-color: #0087ff\">Dropout</span>)             │ (<span style=\"color: #00d7ff; text-decoration-color: #00d7ff\">None</span>, <span style=\"color: #00af00; text-decoration-color: #00af00\">64</span>)                │               <span style=\"color: #00af00; text-decoration-color: #00af00\">0</span> │ global_average_pooling1d[<span style=\"color: #00af00; text-decoration-color: #00af00\">…</span> │\n",
       "│                               │                           │                 │ global_average_pooling1d[<span style=\"color: #00af00; text-decoration-color: #00af00\">…</span> │\n",
       "│                               │                           │                 │ global_average_pooling1d[<span style=\"color: #00af00; text-decoration-color: #00af00\">…</span> │\n",
       "├───────────────────────────────┼───────────────────────────┼─────────────────┼────────────────────────────┤\n",
       "│ emotion_output (<span style=\"color: #0087ff; text-decoration-color: #0087ff\">Dense</span>)        │ (<span style=\"color: #00d7ff; text-decoration-color: #00d7ff\">None</span>, <span style=\"color: #00af00; text-decoration-color: #00af00\">6</span>)                 │             <span style=\"color: #00af00; text-decoration-color: #00af00\">390</span> │ dropout[<span style=\"color: #00af00; text-decoration-color: #00af00\">0</span>][<span style=\"color: #00af00; text-decoration-color: #00af00\">0</span>]              │\n",
       "├───────────────────────────────┼───────────────────────────┼─────────────────┼────────────────────────────┤\n",
       "│ violence_output (<span style=\"color: #0087ff; text-decoration-color: #0087ff\">Dense</span>)       │ (<span style=\"color: #00d7ff; text-decoration-color: #00d7ff\">None</span>, <span style=\"color: #00af00; text-decoration-color: #00af00\">5</span>)                 │             <span style=\"color: #00af00; text-decoration-color: #00af00\">325</span> │ dropout[<span style=\"color: #00af00; text-decoration-color: #00af00\">1</span>][<span style=\"color: #00af00; text-decoration-color: #00af00\">0</span>]              │\n",
       "├───────────────────────────────┼───────────────────────────┼─────────────────┼────────────────────────────┤\n",
       "│ hate_output (<span style=\"color: #0087ff; text-decoration-color: #0087ff\">Dense</span>)           │ (<span style=\"color: #00d7ff; text-decoration-color: #00d7ff\">None</span>, <span style=\"color: #00af00; text-decoration-color: #00af00\">3</span>)                 │             <span style=\"color: #00af00; text-decoration-color: #00af00\">195</span> │ dropout[<span style=\"color: #00af00; text-decoration-color: #00af00\">2</span>][<span style=\"color: #00af00; text-decoration-color: #00af00\">0</span>]              │\n",
       "└───────────────────────────────┴───────────────────────────┴─────────────────┴────────────────────────────┘\n",
       "</pre>\n"
      ],
      "text/plain": [
       "┏━━━━━━━━━━━━━━━━━━━━━━━━━━━━━━━┳━━━━━━━━━━━━━━━━━━━━━━━━━━━┳━━━━━━━━━━━━━━━━━┳━━━━━━━━━━━━━━━━━━━━━━━━━━━━┓\n",
       "┃\u001b[1m \u001b[0m\u001b[1mLayer (type)                 \u001b[0m\u001b[1m \u001b[0m┃\u001b[1m \u001b[0m\u001b[1mOutput Shape             \u001b[0m\u001b[1m \u001b[0m┃\u001b[1m \u001b[0m\u001b[1m        Param #\u001b[0m\u001b[1m \u001b[0m┃\u001b[1m \u001b[0m\u001b[1mConnected to              \u001b[0m\u001b[1m \u001b[0m┃\n",
       "┡━━━━━━━━━━━━━━━━━━━━━━━━━━━━━━━╇━━━━━━━━━━━━━━━━━━━━━━━━━━━╇━━━━━━━━━━━━━━━━━╇━━━━━━━━━━━━━━━━━━━━━━━━━━━━┩\n",
       "│ emotion_input (\u001b[38;5;33mInputLayer\u001b[0m)    │ (\u001b[38;5;45mNone\u001b[0m, \u001b[38;5;34m50\u001b[0m)                │               \u001b[38;5;34m0\u001b[0m │ -                          │\n",
       "├───────────────────────────────┼───────────────────────────┼─────────────────┼────────────────────────────┤\n",
       "│ violence_input (\u001b[38;5;33mInputLayer\u001b[0m)   │ (\u001b[38;5;45mNone\u001b[0m, \u001b[38;5;34m50\u001b[0m)                │               \u001b[38;5;34m0\u001b[0m │ -                          │\n",
       "├───────────────────────────────┼───────────────────────────┼─────────────────┼────────────────────────────┤\n",
       "│ hate_input (\u001b[38;5;33mInputLayer\u001b[0m)       │ (\u001b[38;5;45mNone\u001b[0m, \u001b[38;5;34m50\u001b[0m)                │               \u001b[38;5;34m0\u001b[0m │ -                          │\n",
       "├───────────────────────────────┼───────────────────────────┼─────────────────┼────────────────────────────┤\n",
       "│ embedding (\u001b[38;5;33mEmbedding\u001b[0m)         │ (\u001b[38;5;45mNone\u001b[0m, \u001b[38;5;34m50\u001b[0m, \u001b[38;5;34m128\u001b[0m)           │       \u001b[38;5;34m5,350,528\u001b[0m │ emotion_input[\u001b[38;5;34m0\u001b[0m][\u001b[38;5;34m0\u001b[0m],       │\n",
       "│                               │                           │                 │ violence_input[\u001b[38;5;34m0\u001b[0m][\u001b[38;5;34m0\u001b[0m],      │\n",
       "│                               │                           │                 │ hate_input[\u001b[38;5;34m0\u001b[0m][\u001b[38;5;34m0\u001b[0m]           │\n",
       "├───────────────────────────────┼───────────────────────────┼─────────────────┼────────────────────────────┤\n",
       "│ lstm (\u001b[38;5;33mLSTM\u001b[0m)                   │ (\u001b[38;5;45mNone\u001b[0m, \u001b[38;5;34m50\u001b[0m, \u001b[38;5;34m64\u001b[0m)            │          \u001b[38;5;34m49,408\u001b[0m │ embedding[\u001b[38;5;34m0\u001b[0m][\u001b[38;5;34m0\u001b[0m],           │\n",
       "│                               │                           │                 │ embedding[\u001b[38;5;34m1\u001b[0m][\u001b[38;5;34m0\u001b[0m],           │\n",
       "│                               │                           │                 │ embedding[\u001b[38;5;34m2\u001b[0m][\u001b[38;5;34m0\u001b[0m]            │\n",
       "├───────────────────────────────┼───────────────────────────┼─────────────────┼────────────────────────────┤\n",
       "│ global_average_pooling1d      │ (\u001b[38;5;45mNone\u001b[0m, \u001b[38;5;34m64\u001b[0m)                │               \u001b[38;5;34m0\u001b[0m │ lstm[\u001b[38;5;34m0\u001b[0m][\u001b[38;5;34m0\u001b[0m], lstm[\u001b[38;5;34m1\u001b[0m][\u001b[38;5;34m0\u001b[0m],    │\n",
       "│ (\u001b[38;5;33mGlobalAveragePooling1D\u001b[0m)      │                           │                 │ lstm[\u001b[38;5;34m2\u001b[0m][\u001b[38;5;34m0\u001b[0m]                 │\n",
       "├───────────────────────────────┼───────────────────────────┼─────────────────┼────────────────────────────┤\n",
       "│ dropout (\u001b[38;5;33mDropout\u001b[0m)             │ (\u001b[38;5;45mNone\u001b[0m, \u001b[38;5;34m64\u001b[0m)                │               \u001b[38;5;34m0\u001b[0m │ global_average_pooling1d[\u001b[38;5;34m…\u001b[0m │\n",
       "│                               │                           │                 │ global_average_pooling1d[\u001b[38;5;34m…\u001b[0m │\n",
       "│                               │                           │                 │ global_average_pooling1d[\u001b[38;5;34m…\u001b[0m │\n",
       "├───────────────────────────────┼───────────────────────────┼─────────────────┼────────────────────────────┤\n",
       "│ emotion_output (\u001b[38;5;33mDense\u001b[0m)        │ (\u001b[38;5;45mNone\u001b[0m, \u001b[38;5;34m6\u001b[0m)                 │             \u001b[38;5;34m390\u001b[0m │ dropout[\u001b[38;5;34m0\u001b[0m][\u001b[38;5;34m0\u001b[0m]              │\n",
       "├───────────────────────────────┼───────────────────────────┼─────────────────┼────────────────────────────┤\n",
       "│ violence_output (\u001b[38;5;33mDense\u001b[0m)       │ (\u001b[38;5;45mNone\u001b[0m, \u001b[38;5;34m5\u001b[0m)                 │             \u001b[38;5;34m325\u001b[0m │ dropout[\u001b[38;5;34m1\u001b[0m][\u001b[38;5;34m0\u001b[0m]              │\n",
       "├───────────────────────────────┼───────────────────────────┼─────────────────┼────────────────────────────┤\n",
       "│ hate_output (\u001b[38;5;33mDense\u001b[0m)           │ (\u001b[38;5;45mNone\u001b[0m, \u001b[38;5;34m3\u001b[0m)                 │             \u001b[38;5;34m195\u001b[0m │ dropout[\u001b[38;5;34m2\u001b[0m][\u001b[38;5;34m0\u001b[0m]              │\n",
       "└───────────────────────────────┴───────────────────────────┴─────────────────┴────────────────────────────┘\n"
      ]
     },
     "metadata": {},
     "output_type": "display_data"
    },
    {
     "data": {
      "text/html": [
       "<pre style=\"white-space:pre;overflow-x:auto;line-height:normal;font-family:Menlo,'DejaVu Sans Mono',consolas,'Courier New',monospace\"><span style=\"font-weight: bold\"> Total params: </span><span style=\"color: #00af00; text-decoration-color: #00af00\">5,400,846</span> (20.60 MB)\n",
       "</pre>\n"
      ],
      "text/plain": [
       "\u001b[1m Total params: \u001b[0m\u001b[38;5;34m5,400,846\u001b[0m (20.60 MB)\n"
      ]
     },
     "metadata": {},
     "output_type": "display_data"
    },
    {
     "data": {
      "text/html": [
       "<pre style=\"white-space:pre;overflow-x:auto;line-height:normal;font-family:Menlo,'DejaVu Sans Mono',consolas,'Courier New',monospace\"><span style=\"font-weight: bold\"> Trainable params: </span><span style=\"color: #00af00; text-decoration-color: #00af00\">5,400,846</span> (20.60 MB)\n",
       "</pre>\n"
      ],
      "text/plain": [
       "\u001b[1m Trainable params: \u001b[0m\u001b[38;5;34m5,400,846\u001b[0m (20.60 MB)\n"
      ]
     },
     "metadata": {},
     "output_type": "display_data"
    },
    {
     "data": {
      "text/html": [
       "<pre style=\"white-space:pre;overflow-x:auto;line-height:normal;font-family:Menlo,'DejaVu Sans Mono',consolas,'Courier New',monospace\"><span style=\"font-weight: bold\"> Non-trainable params: </span><span style=\"color: #00af00; text-decoration-color: #00af00\">0</span> (0.00 B)\n",
       "</pre>\n"
      ],
      "text/plain": [
       "\u001b[1m Non-trainable params: \u001b[0m\u001b[38;5;34m0\u001b[0m (0.00 B)\n"
      ]
     },
     "metadata": {},
     "output_type": "display_data"
    }
   ],
   "source": [
    "model.summary()"
   ]
  },
  {
   "cell_type": "markdown",
   "id": "7fe30cdd-1ee8-4b4b-b062-00bb3c38cc16",
   "metadata": {},
   "source": [
    "## Training the Model"
   ]
  },
  {
   "cell_type": "code",
   "execution_count": 63,
   "id": "807de531-79ff-43c9-af10-fcb703cfe78d",
   "metadata": {},
   "outputs": [
    {
     "name": "stdout",
     "output_type": "stream",
     "text": [
      "Epoch 1/10\n",
      "\u001b[1m3000/3000\u001b[0m \u001b[32m━━━━━━━━━━━━━━━━━━━━\u001b[0m\u001b[37m\u001b[0m \u001b[1m256s\u001b[0m 84ms/step - emotion_output_accuracy: 0.2398 - emotion_output_loss: 1.7064 - hate_output_accuracy: 0.6924 - hate_output_loss: 0.7321 - loss: 2.8585 - violence_output_accuracy: 0.8589 - violence_output_loss: 0.4200\n",
      "Epoch 2/10\n",
      "\u001b[1m3000/3000\u001b[0m \u001b[32m━━━━━━━━━━━━━━━━━━━━\u001b[0m\u001b[37m\u001b[0m \u001b[1m243s\u001b[0m 81ms/step - emotion_output_accuracy: 0.6945 - emotion_output_loss: 0.7532 - hate_output_accuracy: 0.8845 - hate_output_loss: 0.3456 - loss: 1.1585 - violence_output_accuracy: 0.9787 - violence_output_loss: 0.0597\n",
      "Epoch 3/10\n",
      "\u001b[1m3000/3000\u001b[0m \u001b[32m━━━━━━━━━━━━━━━━━━━━\u001b[0m\u001b[37m\u001b[0m \u001b[1m241s\u001b[0m 80ms/step - emotion_output_accuracy: 0.9376 - emotion_output_loss: 0.2132 - hate_output_accuracy: 0.9262 - hate_output_loss: 0.2085 - loss: 0.4345 - violence_output_accuracy: 0.9967 - violence_output_loss: 0.0129\n",
      "Epoch 4/10\n",
      "\u001b[1m3000/3000\u001b[0m \u001b[32m━━━━━━━━━━━━━━━━━━━━\u001b[0m\u001b[37m\u001b[0m \u001b[1m240s\u001b[0m 80ms/step - emotion_output_accuracy: 0.9603 - emotion_output_loss: 0.1308 - hate_output_accuracy: 0.9663 - hate_output_loss: 0.1010 - loss: 0.2358 - violence_output_accuracy: 0.9988 - violence_output_loss: 0.0040\n",
      "Epoch 5/10\n",
      "\u001b[1m3000/3000\u001b[0m \u001b[32m━━━━━━━━━━━━━━━━━━━━\u001b[0m\u001b[37m\u001b[0m \u001b[1m242s\u001b[0m 81ms/step - emotion_output_accuracy: 0.9748 - emotion_output_loss: 0.0787 - hate_output_accuracy: 0.9818 - hate_output_loss: 0.0507 - loss: 0.1322 - violence_output_accuracy: 0.9992 - violence_output_loss: 0.0028\n",
      "Epoch 6/10\n",
      "\u001b[1m3000/3000\u001b[0m \u001b[32m━━━━━━━━━━━━━━━━━━━━\u001b[0m\u001b[37m\u001b[0m \u001b[1m242s\u001b[0m 81ms/step - emotion_output_accuracy: 0.9785 - emotion_output_loss: 0.0629 - hate_output_accuracy: 0.9905 - hate_output_loss: 0.0307 - loss: 0.0958 - violence_output_accuracy: 0.9991 - violence_output_loss: 0.0022\n",
      "Epoch 7/10\n",
      "\u001b[1m3000/3000\u001b[0m \u001b[32m━━━━━━━━━━━━━━━━━━━━\u001b[0m\u001b[37m\u001b[0m \u001b[1m244s\u001b[0m 81ms/step - emotion_output_accuracy: 0.9858 - emotion_output_loss: 0.0410 - hate_output_accuracy: 0.9917 - hate_output_loss: 0.0239 - loss: 0.0662 - violence_output_accuracy: 0.9995 - violence_output_loss: 0.0013\n",
      "Epoch 8/10\n",
      "\u001b[1m3000/3000\u001b[0m \u001b[32m━━━━━━━━━━━━━━━━━━━━\u001b[0m\u001b[37m\u001b[0m \u001b[1m243s\u001b[0m 81ms/step - emotion_output_accuracy: 0.9888 - emotion_output_loss: 0.0349 - hate_output_accuracy: 0.9949 - hate_output_loss: 0.0144 - loss: 0.0503 - violence_output_accuracy: 0.9996 - violence_output_loss: 9.6302e-04\n",
      "Epoch 9/10\n",
      "\u001b[1m3000/3000\u001b[0m \u001b[32m━━━━━━━━━━━━━━━━━━━━\u001b[0m\u001b[37m\u001b[0m \u001b[1m245s\u001b[0m 82ms/step - emotion_output_accuracy: 0.9896 - emotion_output_loss: 0.0292 - hate_output_accuracy: 0.9971 - hate_output_loss: 0.0108 - loss: 0.0404 - violence_output_accuracy: 1.0000 - violence_output_loss: 4.6418e-04\n",
      "Epoch 10/10\n",
      "\u001b[1m3000/3000\u001b[0m \u001b[32m━━━━━━━━━━━━━━━━━━━━\u001b[0m\u001b[37m\u001b[0m \u001b[1m245s\u001b[0m 82ms/step - emotion_output_accuracy: 0.9897 - emotion_output_loss: 0.0287 - hate_output_accuracy: 0.9971 - hate_output_loss: 0.0081 - loss: 0.0382 - violence_output_accuracy: 0.9997 - violence_output_loss: 0.0014\n"
     ]
    },
    {
     "data": {
      "text/plain": [
       "<keras.src.callbacks.history.History at 0x235db8ef2c0>"
      ]
     },
     "execution_count": 63,
     "metadata": {},
     "output_type": "execute_result"
    }
   ],
   "source": [
    "model.fit(x={'emotion_input': emotion_input,\n",
    "            'violence_input': violence_input,\n",
    "            'hate_input': hate_input},\n",
    "         y={'emotion_output': emotion_labels,\n",
    "           'violence_output': violence_labels,\n",
    "           'hate_output': hate_labels},\n",
    "         epochs=10,\n",
    "         batch_size=4)"
   ]
  },
  {
   "cell_type": "markdown",
   "id": "17833a8b-6bc9-4648-bcc4-c53061ba836d",
   "metadata": {},
   "source": [
    "## Prediction and Evaluation"
   ]
  },
  {
   "cell_type": "code",
   "execution_count": 64,
   "id": "edb09e32-0f39-4c41-87d1-0ac3f4c80d94",
   "metadata": {},
   "outputs": [
    {
     "name": "stdout",
     "output_type": "stream",
     "text": [
      "\u001b[1m375/375\u001b[0m \u001b[32m━━━━━━━━━━━━━━━━━━━━\u001b[0m\u001b[37m\u001b[0m \u001b[1m3s\u001b[0m 7ms/step\n"
     ]
    }
   ],
   "source": [
    "prediction = model.predict({'emotion_input': emotion_input,\n",
    "                           'violence_input': violence_input,\n",
    "                           'hate_input': hate_input})"
   ]
  },
  {
   "cell_type": "code",
   "execution_count": 65,
   "id": "2020923b-8d6f-4089-a0f5-bc0b398ac985",
   "metadata": {},
   "outputs": [
    {
     "data": {
      "text/plain": [
       "[array([[9.99989867e-01, 7.20521200e-07, 1.19463698e-06, 5.57417707e-06,\n",
       "         1.91678328e-06, 7.10580764e-07],\n",
       "        [9.99998093e-01, 1.86264799e-07, 3.24091900e-07, 1.09209657e-06,\n",
       "         1.81655409e-07, 8.24247337e-08],\n",
       "        [9.99991298e-01, 1.06196319e-06, 8.33404556e-07, 5.34696255e-06,\n",
       "         1.19912102e-06, 3.13982838e-07],\n",
       "        ...,\n",
       "        [2.53412436e-04, 9.56461008e-05, 3.02833814e-05, 1.16971125e-04,\n",
       "         6.35427758e-02, 9.35960948e-01],\n",
       "        [6.76713967e-07, 5.48984190e-07, 1.62245010e-06, 7.39470352e-08,\n",
       "         3.76888820e-05, 9.99959350e-01],\n",
       "        [7.81819836e-06, 2.84449311e-06, 6.71652515e-06, 1.17786931e-06,\n",
       "         1.19029086e-04, 9.99862313e-01]], dtype=float32),\n",
       " array([[3.78381815e-09, 5.53585067e-10, 2.11272666e-09, 1.38208458e-08,\n",
       "         1.00000000e+00],\n",
       "        [6.99658358e-08, 1.11681906e-07, 4.05323810e-08, 5.63753986e-07,\n",
       "         9.99999166e-01],\n",
       "        [4.35098757e-09, 2.79445772e-10, 1.40099188e-09, 1.05124942e-09,\n",
       "         1.00000000e+00],\n",
       "        ...,\n",
       "        [4.26580101e-07, 9.99999523e-01, 1.65963989e-08, 1.73982837e-08,\n",
       "         3.00437151e-08],\n",
       "        [2.18256382e-08, 1.00000000e+00, 2.67569633e-10, 6.58231247e-11,\n",
       "         5.10568476e-10],\n",
       "        [9.27985369e-08, 9.99999881e-01, 3.06007575e-09, 1.18887467e-09,\n",
       "         3.44600015e-09]], dtype=float32),\n",
       " array([[2.1228590e-05, 9.9997211e-01, 6.6841289e-06],\n",
       "        [4.3740304e-04, 9.9952555e-01, 3.7108461e-05],\n",
       "        [2.1232579e-05, 9.9997675e-01, 1.9679528e-06],\n",
       "        ...,\n",
       "        [9.9981815e-01, 1.7859128e-04, 3.3543231e-06],\n",
       "        [2.1072487e-06, 2.6372973e-05, 9.9997151e-01],\n",
       "        [1.8466913e-07, 2.9365347e-07, 9.9999952e-01]], dtype=float32)]"
      ]
     },
     "execution_count": 65,
     "metadata": {},
     "output_type": "execute_result"
    }
   ],
   "source": [
    "prediction"
   ]
  },
  {
   "cell_type": "code",
   "execution_count": 66,
   "id": "6c99e908-0432-4984-8f52-abcaebb4947d",
   "metadata": {},
   "outputs": [],
   "source": [
    "emotion_pred = np.argmax(prediction[0], axis=1)\n",
    "violence_pred = np.argmax(prediction[1], axis=1)\n",
    "hate_pred = np.argmax(prediction[2], axis=1)"
   ]
  },
  {
   "cell_type": "code",
   "execution_count": 67,
   "id": "f7b0dc39-2a15-4016-aaab-86c72d9fd225",
   "metadata": {},
   "outputs": [],
   "source": [
    "def plot_cm(true, pred, title, labels):\n",
    "    cf = confusion_matrix(true, pred, normalize='true')\n",
    "    plt.figure(figsize=(7,6))\n",
    "    sns.heatmap(cf, annot=True,cmap='Blues', xticklabels=labels, yticklabels=labels)\n",
    "    plt.title(title)\n",
    "    plt.ylabel('Actual')\n",
    "    plt.xlabel('Prediction')\n",
    "\n",
    "emotion_labels_text = ['sadness', 'joy', 'love', 'anger', 'fear', 'surprise']\n",
    "violence_labels_text = ['sexual_violence', 'physical_violence', 'emotional_violence', 'Hamful_traditional_practice', 'economic_violence']\n",
    "hate_labels_text = ['offensive speech', 'Neither', 'Hate speech']"
   ]
  },
  {
   "cell_type": "code",
   "execution_count": 68,
   "id": "8bd2f888-e036-49dc-81b2-fa93e83a99fb",
   "metadata": {},
   "outputs": [
    {
     "data": {
      "image/png": "[encoded data removed]",
      "text/plain": [
       "<Figure size 700x600 with 2 Axes>"
      ]
     },
     "metadata": {},
     "output_type": "display_data"
    }
   ],
   "source": [
    "plot_cm(emotion_labels, emotion_pred, 'Confusion Matrix for Emotion', emotion_labels_text)"
   ]
  },
  {
   "cell_type": "code",
   "execution_count": 69,
   "id": "0ce466b5-1679-4ac3-bb8b-34c49953c5ea",
   "metadata": {},
   "outputs": [
    {
     "data": {
      "image/png": "[encoded data removed]",
      "text/plain": [
       "<Figure size 700x600 with 2 Axes>"
      ]
     },
     "metadata": {},
     "output_type": "display_data"
    }
   ],
   "source": [
    "plot_cm(violence_labels, violence_pred, 'Confusion Matrix for Violence', violence_labels_text)"
   ]
  },
  {
   "cell_type": "code",
   "execution_count": 70,
   "id": "c926829c-e507-460d-b34a-ec5c37443349",
   "metadata": {},
   "outputs": [
    {
     "data": {
      "image/png": "[encoded data removed]",
      "text/plain": [
       "<Figure size 700x600 with 2 Axes>"
      ]
     },
     "metadata": {},
     "output_type": "display_data"
    }
   ],
   "source": [
    "plot_cm(hate_labels, hate_pred, 'Confusion Matrix for Hate', hate_labels_text)"
   ]
  },
  {
   "cell_type": "markdown",
   "id": "f906f9f4-0fd4-440e-b693-23bdfc098dfd",
   "metadata": {},
   "source": [
    "## Manual Testing"
   ]
  },
  {
   "cell_type": "code",
   "execution_count": 71,
   "id": "3bcc8501-a5ec-4a1d-9465-eaa7720c3176",
   "metadata": {},
   "outputs": [],
   "source": [
    "def classify_text(input_text):\n",
    "    #preprocessing the input text\n",
    "    input_text_cleaned = remove_stopwords(input_text)\n",
    "    input_sequence = tokenizer.texts_to_sequences([input_text_cleaned])\n",
    "    input_padded = pad_sequences(input_sequences, maxlen=max_length, padding='post')\n",
    "    \n",
    "    #prediction\n",
    "    predictions = model.predict({'emotion_input': input_padded,\n",
    "                           'violence_input': input_padded,\n",
    "                           'hate_input': input_padded})\n",
    "    emotion_pred = np.argmax(predictions[0], axis=1)[0]\n",
    "    violence_pred = np.argmax(predictions[1], axis=1)[0]\n",
    "    hate_pred = np.argmax(predictions[2], axis=1)[0]\n",
    "\n",
    "    #determining major label\n",
    "    major_labels =['Emotion', 'Violence', 'Hate']\n",
    "    major_label_index = np.argmax([np.max(predictions[0]), np.max(predictions[1]), np.max(predictions[2])])\n",
    "    major_label = major_labels[major_label_index]\n",
    "\n",
    "    #determining sub-labels\n",
    "    emotion_labels_text = ['sadness', 'joy', 'love', 'anger', 'fear', 'surprise']\n",
    "    violence_labels_text = ['sexual_violence', 'physical_violence', 'emotional_violence', 'Hamful_traditional_practice', 'economic_violence']\n",
    "    hate_labels_text = ['offensive speech', 'Neither', 'Hate speech']\n",
    "\n",
    "    if major_label == 'Emotion':\n",
    "        sub_label =  emotion_labels_text[emotion_pred]\n",
    "    elif  major_label == 'Violence':\n",
    "        sub_label = violence_labels_text[violence_pred]\n",
    "    else:\n",
    "        sub_label = hate_labels_text[hate_pred]\n",
    "\n",
    "    return major_label, sub_label"
   ]
  },
  {
   "cell_type": "code",
   "execution_count": 98,
   "id": "a723442e-e6ac-4530-af9d-eaad004dbb45",
   "metadata": {},
   "outputs": [],
   "source": [
    "import ipywidgets as widgets\n",
    "from IPython.display import display"
   ]
  },
  {
   "cell_type": "code",
   "execution_count": 92,
   "id": "a3e0a095-7ed1-416a-96ca-d755e69caeeb",
   "metadata": {},
   "outputs": [],
   "source": [
    "#defining a text widget and a placeholder\n",
    "input_text_widget = widgets.Text(\n",
    "    description = 'Input text : ',\n",
    "    placeholder = 'Enter your text'\n",
    ")"
   ]
  },
  {
   "cell_type": "code",
   "execution_count": 93,
   "id": "16531310-d9a1-4476-b112-0957b0d6b00b",
   "metadata": {},
   "outputs": [],
   "source": [
    "#defining classify button\n",
    "button = widgets.Button(description = 'classify')"
   ]
  },
  {
   "cell_type": "code",
   "execution_count": 94,
   "id": "896973b9-5462-4b18-98af-54384410caee",
   "metadata": {},
   "outputs": [],
   "source": [
    "#defining an output area to display result\n",
    "output = widgets.Output()"
   ]
  },
  {
   "cell_type": "code",
   "execution_count": 95,
   "id": "d63226dd-a442-40be-82b0-58e007e9b8da",
   "metadata": {},
   "outputs": [],
   "source": [
    "#function to hande event\n",
    "def on_button_click(b):\n",
    "    with output:\n",
    "        output.clear_output() #clear the previous output\n",
    "        input_text = input_text_widget.value\n",
    "        major_label, sub_level = classify_text(input_text)\n",
    "        print(f\"Major Label: {major_label}\")\n",
    "        print(f\"Sub Label: {sub_label}\")\n",
    "\n",
    "#attaching the button at bottom\n",
    "button.on_click(on_button_click)"
   ]
  },
  {
   "cell_type": "code",
   "execution_count": 96,
   "id": "e65c63cb-5550-4d0c-aaaf-e27d78ee2cc5",
   "metadata": {
    "scrolled": true
   },
   "outputs": [
    {
     "data": {
      "application/vnd.jupyter.widget-view+json": {
       "model_id": "e0be31e0e627491ea8af96cf0e1959bb",
       "version_major": 2,
       "version_minor": 0
      },
      "text/plain": [
       "Text(value='', description='Input text : ', placeholder='Enter your text')"
      ]
     },
     "metadata": {},
     "output_type": "display_data"
    },
    {
     "data": {
      "application/vnd.jupyter.widget-view+json": {
       "model_id": "3e4451d4081e4ed48a8fd7de495d6d18",
       "version_major": 2,
       "version_minor": 0
      },
      "text/plain": [
       "Button(description='classify', style=ButtonStyle())"
      ]
     },
     "metadata": {},
     "output_type": "display_data"
    },
    {
     "data": {
      "application/vnd.jupyter.widget-view+json": {
       "model_id": "e00637af84ff430b9c92b2d60d96820f",
       "version_major": 2,
       "version_minor": 0
      },
      "text/plain": [
       "Output()"
      ]
     },
     "metadata": {},
     "output_type": "display_data"
    }
   ],
   "source": [
    "display(input_text_widget, button, output)"
   ]
  }
 ],
 "metadata": {
  "kernelspec": {
   "display_name": "Python 3 (ipykernel)",
   "language": "python",
   "name": "python3"
  },
  "language_info": {
   "codemirror_mode": {
    "name": "ipython",
    "version": 3
   },
   "file_extension": ".py",
   "mimetype": "text/x-python",
   "name": "python",
   "nbconvert_exporter": "python",
   "pygments_lexer": "ipython3",
   "version": "3.12.3"
  }
 },
 "nbformat": 4,
 "nbformat_minor": 5
}
